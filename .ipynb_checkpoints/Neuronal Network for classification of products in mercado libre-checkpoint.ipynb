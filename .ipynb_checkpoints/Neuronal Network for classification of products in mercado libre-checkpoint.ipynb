{
 "cells": [
  {
   "cell_type": "markdown",
   "metadata": {},
   "source": [
    "<center><h2>MERCADOLIVRE DATA CHALLENGE 2019</h2><br></center>\n",
    "\n",
    "<b>Autor:</b> Edwin Jahir Rueda Rojas<br>\n",
    "<b>email:</b> ejrueda95g@gmail.com<br>\n",
    "\n",
    "<b>Conjunto de treinamento:</b><br>\n",
    "- Cada linha do conjunto de treinamento corresponde a um artigo no Mercado Livre. As colunas são as seguintes:\n",
    "<ul>\n",
    "    <li><b>Title</b><ul>\n",
    "    <li>O título da publicação</li>\n",
    "    </ul>\n",
    "    <li><b>Language</b><ul>\n",
    "    <li>O idioma do título. Pode ser espanhol ou português.</li>\n",
    "    </ul>\n",
    "    <li><b>Label quality</b><ul>\n",
    "        <li>Pode ser confiável ou não confiável. Para os confiáveis, permanecemos tempo revisando essas etiquetas para minimizar a quantidade de erros (no entanto, eles também podem não ser 100% exatos). As linhas marcadas como não confiáveis não foram revisadas por nós, o que significa que a categoria foi escolhida pelo vendedor e, portanto, deve ser esperada uma taxa mais alta de erros de rotulagem.</li>\n",
    "    </ul>\n",
    "    <li><b>Category</b><ul>\t\n",
    "        <li>A categoria da publicação: variable target. O conjunto de categorias possíveis é o mesmo nos dois idiomas. Isso significa que o título de um celular será atribuído à categoria CELULARES, tanto em espanhol como em português.</li>\n",
    "        </ul>        \n",
    "</ul>\n",
    "A distribuição de casos confiáveis no conjunto de treinamento não é uniforme. Ou seja, existem categorias que contêm muitos exemplos confiáveis, assim como outras que não contêm exemplos confiáveis.</p>\n",
    "\n",
    "https://ml-challenge.mercadolibre.com/\n",
    "\n",
    "<h3> Resultados </h3>\n",
    "- A rede neuronal feita, tem um score de 91% nos dados de treinamento y un 72.20% nos dados de teste.\n",
    "<br>\n",
    "<h3> Conclusoes </h3>\n",
    "- A rede poderia ter um melhor desempenho se a gente tivesse uma memoria RAM maior para poder ter um dicionário de palavras maior, a gente tinha 25gb de memoria RAM (google colab)."
   ]
  },
  {
   "cell_type": "code",
   "execution_count": 0,
   "metadata": {
    "colab": {},
    "colab_type": "code",
    "id": "7ToYmVD-E6xj"
   },
   "outputs": [],
   "source": [
    "import nltk\n",
    "import pandas as pd\n",
    "import numpy as np\n",
    "import matplotlib.pyplot as plt\n",
    "from time import time, sleep\n",
    "from sklearn.feature_extraction.text import CountVectorizer\n",
    "from sklearn.preprocessing import OrdinalEncoder\n",
    "from sklearn.ensemble import RandomForestClassifier\n",
    "from sklearn.utils import shuffle, resample\n",
    "from nltk.stem import SnowballStemmer\n",
    "%matplotlib inline"
   ]
  },
  {
   "cell_type": "code",
   "execution_count": 68,
   "metadata": {
    "colab": {
     "base_uri": "https://localhost:8080/",
     "height": 34
    },
    "colab_type": "code",
    "executionInfo": {
     "elapsed": 1208,
     "status": "ok",
     "timestamp": 1569973167845,
     "user": {
      "displayName": "Edwin Rueda",
      "photoUrl": "",
      "userId": "09723095468412601383"
     },
     "user_tz": 180
    },
    "id": "AQqMA8hBp73V",
    "outputId": "25248525-f11f-4220-b834-56aaaf9289b4"
   },
   "outputs": [
    {
     "name": "stdout",
     "output_type": "stream",
     "text": [
      "Drive already mounted at /content/drive; to attempt to forcibly remount, call drive.mount(\"/content/drive\", force_remount=True).\n"
     ]
    }
   ],
   "source": [
    "from google.colab import drive\n",
    "drive.mount('/content/drive')"
   ]
  },
  {
   "cell_type": "markdown",
   "metadata": {},
   "source": [
    "### A rede:\n",
    "- Sao geradas duas redes, uma rede para o idioma espanhol e outra para o portugês.\n",
    "- A arquitetura da rede e a elaboraçao do dataset é a mesma para os dois idiomas, por ende, neste notebook sao será vista uma metodología que a gente muda só ao mudar a variavél <b>idioma</b>."
   ]
  },
  {
   "cell_type": "code",
   "execution_count": 0,
   "metadata": {
    "colab": {},
    "colab_type": "code",
    "id": "x0kLJemCP8Hk"
   },
   "outputs": [],
   "source": [
    "idioma = \"portuguese\""
   ]
  },
  {
   "cell_type": "code",
   "execution_count": 0,
   "metadata": {
    "colab": {
     "base_uri": "https://localhost:8080/",
     "height": 221
    },
    "colab_type": "code",
    "executionInfo": {
     "elapsed": 129245,
     "status": "ok",
     "timestamp": 1569958006032,
     "user": {
      "displayName": "Edwin Rueda",
      "photoUrl": "",
      "userId": "09723095468412601383"
     },
     "user_tz": 180
    },
    "id": "ynz8YmxrYQ0y",
    "outputId": "1016d38a-6907-4d07-8269-761e1ba4c7f1"
   },
   "outputs": [
    {
     "name": "stdout",
     "output_type": "stream",
     "text": [
      "(10000000, 4)\n"
     ]
    },
    {
     "data": {
      "text/html": [
       "<div>\n",
       "<style scoped>\n",
       "    .dataframe tbody tr th:only-of-type {\n",
       "        vertical-align: middle;\n",
       "    }\n",
       "\n",
       "    .dataframe tbody tr th {\n",
       "        vertical-align: top;\n",
       "    }\n",
       "\n",
       "    .dataframe thead th {\n",
       "        text-align: right;\n",
       "    }\n",
       "</style>\n",
       "<table border=\"1\" class=\"dataframe\">\n",
       "  <thead>\n",
       "    <tr style=\"text-align: right;\">\n",
       "      <th></th>\n",
       "      <th>title</th>\n",
       "      <th>label_quality</th>\n",
       "      <th>language</th>\n",
       "      <th>category</th>\n",
       "    </tr>\n",
       "  </thead>\n",
       "  <tbody>\n",
       "    <tr>\n",
       "      <th>2</th>\n",
       "      <td>Maquina De Lavar Electrolux 12 Kilos</td>\n",
       "      <td>unreliable</td>\n",
       "      <td>portuguese</td>\n",
       "      <td>WASHING_MACHINES</td>\n",
       "    </tr>\n",
       "    <tr>\n",
       "      <th>3</th>\n",
       "      <td>Par Disco De Freio Diant Vent Gol 8v 08/ Frema...</td>\n",
       "      <td>unreliable</td>\n",
       "      <td>portuguese</td>\n",
       "      <td>VEHICLE_BRAKE_DISCS</td>\n",
       "    </tr>\n",
       "    <tr>\n",
       "      <th>5</th>\n",
       "      <td>4 Microaspersor Irrigação Ultra 7,20 Metros</td>\n",
       "      <td>unreliable</td>\n",
       "      <td>portuguese</td>\n",
       "      <td>IRRIGATION_SPRINKLERS</td>\n",
       "    </tr>\n",
       "    <tr>\n",
       "      <th>6</th>\n",
       "      <td>Raquete Clash 100 Tour - Nova</td>\n",
       "      <td>unreliable</td>\n",
       "      <td>portuguese</td>\n",
       "      <td>RACQUETS</td>\n",
       "    </tr>\n",
       "    <tr>\n",
       "      <th>7</th>\n",
       "      <td>Kit Tripe Para Celular Ou Câmera Fotog 1,20m +...</td>\n",
       "      <td>unreliable</td>\n",
       "      <td>portuguese</td>\n",
       "      <td>CAMERA_TRIPODS</td>\n",
       "    </tr>\n",
       "  </tbody>\n",
       "</table>\n",
       "</div>"
      ],
      "text/plain": [
       "                                               title  ...               category\n",
       "2               Maquina De Lavar Electrolux 12 Kilos  ...       WASHING_MACHINES\n",
       "3  Par Disco De Freio Diant Vent Gol 8v 08/ Frema...  ...    VEHICLE_BRAKE_DISCS\n",
       "5        4 Microaspersor Irrigação Ultra 7,20 Metros  ...  IRRIGATION_SPRINKLERS\n",
       "6                      Raquete Clash 100 Tour - Nova  ...               RACQUETS\n",
       "7  Kit Tripe Para Celular Ou Câmera Fotog 1,20m +...  ...         CAMERA_TRIPODS\n",
       "\n",
       "[5 rows x 4 columns]"
      ]
     },
     "execution_count": 32,
     "metadata": {
      "tags": []
     },
     "output_type": "execute_result"
    }
   ],
   "source": [
    "train = pd.read_csv(\"./drive/My Drive/Colab Notebooks/data/train.csv\")\n",
    "train_por = train.loc[train.language==idioma]\n",
    "print(train_por.shape)\n",
    "train_por.head()"
   ]
  },
  {
   "cell_type": "code",
   "execution_count": 0,
   "metadata": {
    "colab": {
     "base_uri": "https://localhost:8080/",
     "height": 49
    },
    "colab_type": "code",
    "executionInfo": {
     "elapsed": 3139,
     "status": "ok",
     "timestamp": 1569958022519,
     "user": {
      "displayName": "Edwin Rueda",
      "photoUrl": "",
      "userId": "09723095468412601383"
     },
     "user_tz": 180
    },
    "id": "RRE3PWtYYTEx",
    "outputId": "7cd89558-f343-40b5-8d4a-acd610123eea"
   },
   "outputs": [
    {
     "data": {
      "text/html": [
       "<div>\n",
       "<style scoped>\n",
       "    .dataframe tbody tr th:only-of-type {\n",
       "        vertical-align: middle;\n",
       "    }\n",
       "\n",
       "    .dataframe tbody tr th {\n",
       "        vertical-align: top;\n",
       "    }\n",
       "\n",
       "    .dataframe thead th {\n",
       "        text-align: right;\n",
       "    }\n",
       "</style>\n",
       "<table border=\"1\" class=\"dataframe\">\n",
       "  <thead>\n",
       "    <tr style=\"text-align: right;\">\n",
       "      <th></th>\n",
       "      <th>title</th>\n",
       "      <th>label_quality</th>\n",
       "      <th>language</th>\n",
       "      <th>category</th>\n",
       "    </tr>\n",
       "  </thead>\n",
       "  <tbody>\n",
       "  </tbody>\n",
       "</table>\n",
       "</div>"
      ],
      "text/plain": [
       "Empty DataFrame\n",
       "Columns: [title, label_quality, language, category]\n",
       "Index: []"
      ]
     },
     "execution_count": 33,
     "metadata": {
      "tags": []
     },
     "output_type": "execute_result"
    }
   ],
   "source": [
    "X_train = pd.DataFrame(columns=train_por.columns)\n",
    "X_train.head()"
   ]
  },
  {
   "cell_type": "code",
   "execution_count": 0,
   "metadata": {
    "colab": {
     "base_uri": "https://localhost:8080/",
     "height": 34
    },
    "colab_type": "code",
    "executionInfo": {
     "elapsed": 2490,
     "status": "ok",
     "timestamp": 1569958024173,
     "user": {
      "displayName": "Edwin Rueda",
      "photoUrl": "",
      "userId": "09723095468412601383"
     },
     "user_tz": 180
    },
    "id": "Xx48e5agnn7j",
    "outputId": "ed392ae2-5201-4190-aa91-d8beabdc989a"
   },
   "outputs": [
    {
     "data": {
      "text/plain": [
       "1576"
      ]
     },
     "execution_count": 34,
     "metadata": {
      "tags": []
     },
     "output_type": "execute_result"
    }
   ],
   "source": [
    "len(pd.unique(train_por.category))"
   ]
  },
  {
   "cell_type": "code",
   "execution_count": 0,
   "metadata": {
    "colab": {
     "base_uri": "https://localhost:8080/",
     "height": 34
    },
    "colab_type": "code",
    "executionInfo": {
     "elapsed": 1690,
     "status": "ok",
     "timestamp": 1569958024176,
     "user": {
      "displayName": "Edwin Rueda",
      "photoUrl": "",
      "userId": "09723095468412601383"
     },
     "user_tz": 180
    },
    "id": "dUjXYh6-zU3X",
    "outputId": "dc04e565-eb23-400d-acf7-fb1d20115a0f"
   },
   "outputs": [
    {
     "data": {
      "text/plain": [
       "(10000000, 4)"
      ]
     },
     "execution_count": 35,
     "metadata": {
      "tags": []
     },
     "output_type": "execute_result"
    }
   ],
   "source": [
    "train_por.shape"
   ]
  },
  {
   "cell_type": "code",
   "execution_count": 0,
   "metadata": {
    "colab": {
     "base_uri": "https://localhost:8080/",
     "height": 34
    },
    "colab_type": "code",
    "executionInfo": {
     "elapsed": 2205,
     "status": "ok",
     "timestamp": 1569958026338,
     "user": {
      "displayName": "Edwin Rueda",
      "photoUrl": "",
      "userId": "09723095468412601383"
     },
     "user_tz": 180
    },
    "id": "b_nK3NMCmwn1",
    "outputId": "e0a50378-b1fa-4c57-d66a-c59ea1fe0168"
   },
   "outputs": [
    {
     "data": {
      "text/plain": [
       "1576"
      ]
     },
     "execution_count": 36,
     "metadata": {
      "tags": []
     },
     "output_type": "execute_result"
    }
   ],
   "source": [
    "targets = pd.unique(train_por.category.values)\n",
    "len(targets)"
   ]
  },
  {
   "cell_type": "markdown",
   "metadata": {},
   "source": [
    "## Dataset\n",
    "- O dataset contém 20.000.000 de dados, a mitade para português e a outra mitade para espahol.\n",
    "- Como o dicionário de palavras é grande, a gente tem que reduzir a quantidade de mostras, por isso a gente só pega 200 mostras por categoria se nessa categoria os dados sao \"reliable\", se nao sao assim, a gente só pega 150 de forma aleatoria.\n",
    "- O dicionário foi feito com as 5200 palavras mais repetidas."
   ]
  },
  {
   "cell_type": "code",
   "execution_count": 37,
   "metadata": {
    "colab": {
     "base_uri": "https://localhost:8080/",
     "height": 272
    },
    "colab_type": "code",
    "executionInfo": {
     "elapsed": 986,
     "status": "ok",
     "timestamp": 1569961629155,
     "user": {
      "displayName": "Edwin Rueda",
      "photoUrl": "",
      "userId": "09723095468412601383"
     },
     "user_tz": 180
    },
    "id": "TjHKe3fqaJLe",
    "outputId": "0612df61-07aa-408c-8a4e-71565b7e8fee"
   },
   "outputs": [
    {
     "name": "stdout",
     "output_type": "stream",
     "text": [
      "count:  100 tiempo:  1.56836 [min]\n",
      "count:  200 tiempo:  1.47169 [min]\n",
      "count:  300 tiempo:  1.69253 [min]\n",
      "count:  400 tiempo:  1.46935 [min]\n",
      "count:  500 tiempo:  1.5956 [min]\n",
      "count:  600 tiempo:  1.73726 [min]\n",
      "count:  700 tiempo:  1.68368 [min]\n",
      "count:  800 tiempo:  1.7674 [min]\n",
      "count:  900 tiempo:  1.69649 [min]\n",
      "count:  1000 tiempo:  1.87632 [min]\n",
      "count:  1100 tiempo:  1.98181 [min]\n",
      "count:  1200 tiempo:  1.90575 [min]\n",
      "count:  1300 tiempo:  2.05629 [min]\n",
      "count:  1400 tiempo:  2.14017 [min]\n",
      "count:  1500 tiempo:  2.59912 [min]\n"
     ]
    }
   ],
   "source": [
    "t_i = time()\n",
    "count = 0\n",
    "for lbl in targets:\n",
    "    aux = train_por.loc[train_por.label_quality==\"reliable\"]\n",
    "    if aux.loc[aux.category==lbl].shape[0] != 0:\n",
    "        X_train = X_train.append(aux.loc[aux.category==lbl].sample(200, replace=True)) #300\n",
    "    else:\n",
    "        aux2 = train_por.loc[train_por.label_quality==\"unreliable\"]\n",
    "        X_train = X_train.append(aux2.loc[aux2.category==lbl].sample(150, replace=True)) #200\n",
    "    count += 1 \n",
    "    if count%100 == 0:\n",
    "        t_f = time()\n",
    "        print(\"count: \",count,\"tiempo: \", np.round((t_f-t_i)/60, 5), \"[min]\")\n",
    "        t_i = time()"
   ]
  },
  {
   "cell_type": "code",
   "execution_count": 38,
   "metadata": {
    "colab": {
     "base_uri": "https://localhost:8080/",
     "height": 34
    },
    "colab_type": "code",
    "executionInfo": {
     "elapsed": 31,
     "status": "ok",
     "timestamp": 1569961629157,
     "user": {
      "displayName": "Edwin Rueda",
      "photoUrl": "",
      "userId": "09723095468412601383"
     },
     "user_tz": 180
    },
    "id": "mRZMsh884RG_",
    "outputId": "e1e5d67d-3dce-4b33-ba0e-92120438abb3"
   },
   "outputs": [
    {
     "name": "stdout",
     "output_type": "stream",
     "text": [
      "(295400, 4)\n"
     ]
    }
   ],
   "source": [
    "print(X_train.shape)\n",
    "X_train.to_csv(\"./drive/My Drive/Colab Notebooks/data/X_train_\"+idioma+\".csv\")"
   ]
  },
  {
   "cell_type": "code",
   "execution_count": 0,
   "metadata": {
    "colab": {},
    "colab_type": "code",
    "id": "XIcD7_eDDh-K"
   },
   "outputs": [],
   "source": [
    "X_train = pd.read_csv(\"./drive/My Drive/Colab Notebooks/data/X_train_\"+idioma+\".csv\", index_col=0)"
   ]
  },
  {
   "cell_type": "code",
   "execution_count": 43,
   "metadata": {
    "colab": {
     "base_uri": "https://localhost:8080/",
     "height": 34
    },
    "colab_type": "code",
    "executionInfo": {
     "elapsed": 728,
     "status": "ok",
     "timestamp": 1569961824383,
     "user": {
      "displayName": "Edwin Rueda",
      "photoUrl": "",
      "userId": "09723095468412601383"
     },
     "user_tz": 180
    },
    "id": "0w2rVoo4yPQ1",
    "outputId": "d3554d4b-3ba0-47ce-d33a-7c7a700b0393"
   },
   "outputs": [
    {
     "data": {
      "text/plain": [
       "1576"
      ]
     },
     "execution_count": 43,
     "metadata": {
      "tags": []
     },
     "output_type": "execute_result"
    }
   ],
   "source": [
    "len(pd.unique(X_train.category))"
   ]
  },
  {
   "cell_type": "code",
   "execution_count": 44,
   "metadata": {
    "colab": {
     "base_uri": "https://localhost:8080/",
     "height": 221
    },
    "colab_type": "code",
    "executionInfo": {
     "elapsed": 905,
     "status": "ok",
     "timestamp": 1569961828091,
     "user": {
      "displayName": "Edwin Rueda",
      "photoUrl": "",
      "userId": "09723095468412601383"
     },
     "user_tz": 180
    },
    "id": "qG-wJiZBnWFw",
    "outputId": "2486d550-e83a-4452-c8a9-ac7939f4d550"
   },
   "outputs": [
    {
     "name": "stdout",
     "output_type": "stream",
     "text": [
      "(295400, 4)\n"
     ]
    },
    {
     "data": {
      "text/html": [
       "<div>\n",
       "<style scoped>\n",
       "    .dataframe tbody tr th:only-of-type {\n",
       "        vertical-align: middle;\n",
       "    }\n",
       "\n",
       "    .dataframe tbody tr th {\n",
       "        vertical-align: top;\n",
       "    }\n",
       "\n",
       "    .dataframe thead th {\n",
       "        text-align: right;\n",
       "    }\n",
       "</style>\n",
       "<table border=\"1\" class=\"dataframe\">\n",
       "  <thead>\n",
       "    <tr style=\"text-align: right;\">\n",
       "      <th></th>\n",
       "      <th>title</th>\n",
       "      <th>label_quality</th>\n",
       "      <th>language</th>\n",
       "      <th>category</th>\n",
       "    </tr>\n",
       "  </thead>\n",
       "  <tbody>\n",
       "    <tr>\n",
       "      <th>18049546</th>\n",
       "      <td>Lava E Seca Midea Acqua Branco 8kg</td>\n",
       "      <td>reliable</td>\n",
       "      <td>portuguese</td>\n",
       "      <td>WASHING_MACHINES</td>\n",
       "    </tr>\n",
       "    <tr>\n",
       "      <th>9731921</th>\n",
       "      <td>Lavadora Roupas 12kg Suggar Lavamatic Semiaut....</td>\n",
       "      <td>reliable</td>\n",
       "      <td>portuguese</td>\n",
       "      <td>WASHING_MACHINES</td>\n",
       "    </tr>\n",
       "    <tr>\n",
       "      <th>11206431</th>\n",
       "      <td>Lavadora Electrolux De Roupas Automática 16kg ...</td>\n",
       "      <td>reliable</td>\n",
       "      <td>portuguese</td>\n",
       "      <td>WASHING_MACHINES</td>\n",
       "    </tr>\n",
       "    <tr>\n",
       "      <th>12707303</th>\n",
       "      <td>Lavadora Brastemp 11kg- Bwk11ab 220v</td>\n",
       "      <td>reliable</td>\n",
       "      <td>portuguese</td>\n",
       "      <td>WASHING_MACHINES</td>\n",
       "    </tr>\n",
       "    <tr>\n",
       "      <th>1599776</th>\n",
       "      <td>Lavadora De Roupas Latina La555 10kg - 110v</td>\n",
       "      <td>reliable</td>\n",
       "      <td>portuguese</td>\n",
       "      <td>WASHING_MACHINES</td>\n",
       "    </tr>\n",
       "  </tbody>\n",
       "</table>\n",
       "</div>"
      ],
      "text/plain": [
       "                                                      title  ...          category\n",
       "18049546                Lava E Seca Midea Acqua Branco 8kg   ...  WASHING_MACHINES\n",
       "9731921   Lavadora Roupas 12kg Suggar Lavamatic Semiaut....  ...  WASHING_MACHINES\n",
       "11206431  Lavadora Electrolux De Roupas Automática 16kg ...  ...  WASHING_MACHINES\n",
       "12707303               Lavadora Brastemp 11kg- Bwk11ab 220v  ...  WASHING_MACHINES\n",
       "1599776         Lavadora De Roupas Latina La555 10kg - 110v  ...  WASHING_MACHINES\n",
       "\n",
       "[5 rows x 4 columns]"
      ]
     },
     "execution_count": 44,
     "metadata": {
      "tags": []
     },
     "output_type": "execute_result"
    }
   ],
   "source": [
    "print(X_train.shape)\n",
    "X_train.head()"
   ]
  },
  {
   "cell_type": "code",
   "execution_count": 45,
   "metadata": {
    "colab": {
     "base_uri": "https://localhost:8080/",
     "height": 221
    },
    "colab_type": "code",
    "executionInfo": {
     "elapsed": 1002,
     "status": "ok",
     "timestamp": 1569961830465,
     "user": {
      "displayName": "Edwin Rueda",
      "photoUrl": "",
      "userId": "09723095468412601383"
     },
     "user_tz": 180
    },
    "id": "MLGGuMwtaQYD",
    "outputId": "6f229992-9421-49c5-b3dd-3adba6a00573"
   },
   "outputs": [
    {
     "name": "stdout",
     "output_type": "stream",
     "text": [
      "(295400, 4)\n"
     ]
    },
    {
     "data": {
      "text/html": [
       "<div>\n",
       "<style scoped>\n",
       "    .dataframe tbody tr th:only-of-type {\n",
       "        vertical-align: middle;\n",
       "    }\n",
       "\n",
       "    .dataframe tbody tr th {\n",
       "        vertical-align: top;\n",
       "    }\n",
       "\n",
       "    .dataframe thead th {\n",
       "        text-align: right;\n",
       "    }\n",
       "</style>\n",
       "<table border=\"1\" class=\"dataframe\">\n",
       "  <thead>\n",
       "    <tr style=\"text-align: right;\">\n",
       "      <th></th>\n",
       "      <th>title</th>\n",
       "      <th>label_quality</th>\n",
       "      <th>language</th>\n",
       "      <th>category</th>\n",
       "    </tr>\n",
       "  </thead>\n",
       "  <tbody>\n",
       "    <tr>\n",
       "      <th>15703885</th>\n",
       "      <td>Encosto De Cabeça Com Tela E Dvd, Napoli Model...</td>\n",
       "      <td>reliable</td>\n",
       "      <td>portuguese</td>\n",
       "      <td>CAR_SCREENS</td>\n",
       "    </tr>\n",
       "    <tr>\n",
       "      <th>5679449</th>\n",
       "      <td>40%off Natura 2 Refis Chronos Antissinais 40g ...</td>\n",
       "      <td>reliable</td>\n",
       "      <td>portuguese</td>\n",
       "      <td>FACIAL_SKIN_CARE_PRODUCTS</td>\n",
       "    </tr>\n",
       "    <tr>\n",
       "      <th>11631957</th>\n",
       "      <td>Cabine Led/uv 48w Sun 8 Bivolt Unha Fibra Gel ...</td>\n",
       "      <td>reliable</td>\n",
       "      <td>portuguese</td>\n",
       "      <td>NAIL_DRYERS</td>\n",
       "    </tr>\n",
       "    <tr>\n",
       "      <th>7245629</th>\n",
       "      <td>Oculos Ogrife Solar Masculino Og 458-c Proteçã...</td>\n",
       "      <td>reliable</td>\n",
       "      <td>portuguese</td>\n",
       "      <td>SUNGLASSES</td>\n",
       "    </tr>\n",
       "    <tr>\n",
       "      <th>17926619</th>\n",
       "      <td>Envelope Vai-vem Plástico 26x35 772.0 Acrimet ...</td>\n",
       "      <td>reliable</td>\n",
       "      <td>portuguese</td>\n",
       "      <td>POLY_MAILERS</td>\n",
       "    </tr>\n",
       "  </tbody>\n",
       "</table>\n",
       "</div>"
      ],
      "text/plain": [
       "                                                      title  ...                   category\n",
       "15703885  Encosto De Cabeça Com Tela E Dvd, Napoli Model...  ...                CAR_SCREENS\n",
       "5679449   40%off Natura 2 Refis Chronos Antissinais 40g ...  ...  FACIAL_SKIN_CARE_PRODUCTS\n",
       "11631957  Cabine Led/uv 48w Sun 8 Bivolt Unha Fibra Gel ...  ...                NAIL_DRYERS\n",
       "7245629   Oculos Ogrife Solar Masculino Og 458-c Proteçã...  ...                 SUNGLASSES\n",
       "17926619  Envelope Vai-vem Plástico 26x35 772.0 Acrimet ...  ...               POLY_MAILERS\n",
       "\n",
       "[5 rows x 4 columns]"
      ]
     },
     "execution_count": 45,
     "metadata": {
      "tags": []
     },
     "output_type": "execute_result"
    }
   ],
   "source": [
    "X_train = shuffle(X_train)\n",
    "print(X_train.shape)\n",
    "X_train.head()"
   ]
  },
  {
   "cell_type": "markdown",
   "metadata": {},
   "source": [
    "## Processamento dos dados\n",
    "- No começo, todas as letras das palavras foram trocadas para minúsculas.<br>\n",
    "- Depois, foram removidos todos os caracteres que nao sao ASCII e os números.<br>\n",
    "- Só sao tomadas em conta as palavras que tem um comprimento maior a 3.<br>\n",
    "- As palavras foram lematizadas e logo feito um <i>Stemmer</i> para assim pegar só as 5 primeiras letras da palavra.\n"
   ]
  },
  {
   "cell_type": "code",
   "execution_count": 0,
   "metadata": {
    "colab": {},
    "colab_type": "code",
    "id": "tuLozpuraSdQ"
   },
   "outputs": [],
   "source": [
    "def processing(doc):\n",
    "    return doc.lower()"
   ]
  },
  {
   "cell_type": "code",
   "execution_count": 0,
   "metadata": {
    "colab": {},
    "colab_type": "code",
    "id": "fXhx_ggRGmma"
   },
   "outputs": [],
   "source": [
    "import re, unicodedata, inflect\n",
    "\n",
    "def token(doc):\n",
    "    words = nltk.word_tokenize(doc, language=idioma)\n",
    "    lemmatizer = nltk.WordNetLemmatizer()\n",
    "    r = []\n",
    "    for word in words:\n",
    "        new_word = unicodedata.normalize('NFKD', word).encode('ascii', 'ignore').decode('utf-8', 'ignore')\n",
    "        new_word = re.sub(r'[^\\w\\s]', '', new_word)\n",
    "        new_word = re.sub(r'\\d','',new_word)\n",
    "        if len(new_word.replace(\" \",\"\")) > 3:\n",
    "            new_word = lemmatizer.lemmatize(new_word, pos='v')\n",
    "            new_word = lemmatizer.lemmatize(new_word, pos='n')\n",
    "            new_word = SnowballStemmer(idioma).stem(new_word)\n",
    "            r.append(new_word[:5])\n",
    "    return r"
   ]
  },
  {
   "cell_type": "code",
   "execution_count": 70,
   "metadata": {
    "colab": {
     "base_uri": "https://localhost:8080/",
     "height": 136
    },
    "colab_type": "code",
    "executionInfo": {
     "elapsed": 2094,
     "status": "ok",
     "timestamp": 1569973179703,
     "user": {
      "displayName": "Edwin Rueda",
      "photoUrl": "",
      "userId": "09723095468412601383"
     },
     "user_tz": 180
    },
    "id": "yR_iYe2jsKUu",
    "outputId": "b2347fbe-79d8-4367-f674-bf5237b1eb38"
   },
   "outputs": [
    {
     "name": "stdout",
     "output_type": "stream",
     "text": [
      "[nltk_data] Downloading package punkt to /root/nltk_data...\n",
      "[nltk_data]   Package punkt is already up-to-date!\n",
      "[nltk_data] Downloading package wordnet to /root/nltk_data...\n",
      "[nltk_data]   Package wordnet is already up-to-date!\n",
      "[nltk_data] Downloading package stopwords to /root/nltk_data...\n",
      "[nltk_data]   Package stopwords is already up-to-date!\n"
     ]
    },
    {
     "data": {
      "text/plain": [
       "True"
      ]
     },
     "execution_count": 70,
     "metadata": {
      "tags": []
     },
     "output_type": "execute_result"
    }
   ],
   "source": [
    "nltk.download('punkt')\n",
    "nltk.download('wordnet')\n",
    "nltk.download('stopwords')"
   ]
  },
  {
   "cell_type": "code",
   "execution_count": 71,
   "metadata": {
    "colab": {
     "base_uri": "https://localhost:8080/",
     "height": 34
    },
    "colab_type": "code",
    "executionInfo": {
     "elapsed": 1194,
     "status": "ok",
     "timestamp": 1569973180622,
     "user": {
      "displayName": "Edwin Rueda",
      "photoUrl": "",
      "userId": "09723095468412601383"
     },
     "user_tz": 180
    },
    "id": "iUq4F-fUIZ4H",
    "outputId": "06f64939-d5c2-44f5-9b5a-83e4972e88f2"
   },
   "outputs": [
    {
     "data": {
      "text/plain": [
       "['dia', 'car', 'vend', 'vende', 'vend']"
      ]
     },
     "execution_count": 71,
     "metadata": {
      "tags": []
     },
     "output_type": "execute_result"
    }
   ],
   "source": [
    "token(\"bom, dias caras vendemos, vendese, vender\")"
   ]
  },
  {
   "cell_type": "markdown",
   "metadata": {},
   "source": [
    "## Criaçao do DataSet\n",
    "- Para a criaçao do dataset, foi usada a funçao <i>CountVectorizer</i> de sklearn, ela gera um DataSet a partir do contagem de palavras, a gente pegou as 5200 palavras mais repetidas."
   ]
  },
  {
   "cell_type": "code",
   "execution_count": 0,
   "metadata": {
    "colab": {},
    "colab_type": "code",
    "id": "iqQ8vyEaaVRv"
   },
   "outputs": [],
   "source": [
    "text = X_train.title.values\n",
    "\n",
    "vectorizer = CountVectorizer(stop_words=[sw[:4] for sw in nltk.corpus.stopwords.words(idioma)], strip_accents=\"unicode\",\n",
    "                             preprocessor=processing, decode_error=\"ignore\", analyzer=\"word\", max_features=5200, tokenizer=token) #3500\n",
    "\n",
    "X_train_por = vectorizer.fit_transform(text)\n",
    "print(\"número de features: \", len(vectorizer.get_feature_names()))\n",
    "encoder = OrdinalEncoder()\n",
    "y_train_por = X_train.category.values.reshape(-1, 1)\n",
    "encoder.fit(y_train_por)\n",
    "y_por_enc = encoder.transform(y_train_por)\n",
    "print(X_train_por.shape, y_por_enc.shape)"
   ]
  },
  {
   "cell_type": "code",
   "execution_count": null,
   "metadata": {
    "colab": {
     "base_uri": "https://localhost:8080/",
     "height": 1000
    },
    "colab_type": "code",
    "executionInfo": {
     "elapsed": 3111,
     "status": "ok",
     "timestamp": 1569943544145,
     "user": {
      "displayName": "Edwin Rueda",
      "photoUrl": "",
      "userId": "09723095468412601383"
     },
     "user_tz": 180
    },
    "id": "U2m8IKv0ahJO",
    "outputId": "08dae357-e30f-4cb3-d670-054c26a158ef"
   },
   "outputs": [],
   "source": [
    "vectorizer.get_feature_names(), len(vectorizer.get_feature_names())"
   ]
  },
  {
   "cell_type": "code",
   "execution_count": 0,
   "metadata": {
    "colab": {
     "base_uri": "https://localhost:8080/",
     "height": 34
    },
    "colab_type": "code",
    "executionInfo": {
     "elapsed": 19715,
     "status": "ok",
     "timestamp": 1569947724869,
     "user": {
      "displayName": "Edwin Rueda",
      "photoUrl": "",
      "userId": "09723095468412601383"
     },
     "user_tz": 180
    },
    "id": "gU5kaluXVsWN",
    "outputId": "772b5152-3ba4-4102-c3f0-5abc7ebe0c24"
   },
   "outputs": [
    {
     "name": "stdout",
     "output_type": "stream",
     "text": [
      "(421000, 5200)\n"
     ]
    }
   ],
   "source": [
    "X_train_por = X_train_por.toarray()\n",
    "print(X_train_por.shape)"
   ]
  },
  {
   "cell_type": "code",
   "execution_count": 0,
   "metadata": {
    "colab": {},
    "colab_type": "code",
    "id": "ROYuw_8fRqlq"
   },
   "outputs": [],
   "source": [
    "X_train_por.shape"
   ]
  },
  {
   "cell_type": "markdown",
   "metadata": {},
   "source": [
    "## A rede\n",
    "- Foi feita uma rede neuronal com 4 camadas de densidade e 2 camadas de eliminaçao com um modelo sequencial feito com tensorflow.keras."
   ]
  },
  {
   "cell_type": "code",
   "execution_count": 0,
   "metadata": {
    "colab": {},
    "colab_type": "code",
    "id": "jE4egE9yaipq"
   },
   "outputs": [],
   "source": [
    "import tensorflow as tf\n",
    "from tensorflow.keras.models import Sequential\n",
    "from tensorflow.keras.layers import Dense, LSTM, Dropout, Embedding\n",
    "from tensorflow.keras.utils import to_categorical\n",
    "from tensorflow.keras.optimizers import RMSprop"
   ]
  },
  {
   "cell_type": "code",
   "execution_count": 0,
   "metadata": {
    "colab": {},
    "colab_type": "code",
    "id": "rP8Sw8Vrak9A"
   },
   "outputs": [],
   "source": [
    "model = Sequential()\n",
    "model.add(Dense(600, input_shape=(X_train_por.shape[1],), name=\"dense1\", activation=\"sigmoid\"))\n",
    "model.add(Dropout(.1))\n",
    "model.add(Dense(600,  name=\"dense2\", activation=\"tanh\"))\n",
    "model.add(Dropout(.1))\n",
    "model.add(Dense(800,  name=\"dense3\", activation=\"tanh\"))\n",
    "model.add(Dense(len(np.unique(y_por_enc)), activation=\"softmax\"))"
   ]
  },
  {
   "cell_type": "code",
   "execution_count": 0,
   "metadata": {
    "colab": {},
    "colab_type": "code",
    "id": "f43W6Ycyavg-"
   },
   "outputs": [],
   "source": [
    "model.compile(optimizer=RMSprop(lr=0.001), loss='categorical_crossentropy', metrics=['accuracy'])"
   ]
  },
  {
   "cell_type": "code",
   "execution_count": 53,
   "metadata": {
    "colab": {
     "base_uri": "https://localhost:8080/",
     "height": 34
    },
    "colab_type": "code",
    "executionInfo": {
     "elapsed": 607,
     "status": "ok",
     "timestamp": 1569962070504,
     "user": {
      "displayName": "Edwin Rueda",
      "photoUrl": "",
      "userId": "09723095468412601383"
     },
     "user_tz": 180
    },
    "id": "MbcbRGNBr-sz",
    "outputId": "c289c371-97c0-4770-add1-9ba017aba17e"
   },
   "outputs": [
    {
     "data": {
      "text/plain": [
       "(295400, 5200)"
      ]
     },
     "execution_count": 53,
     "metadata": {
      "tags": []
     },
     "output_type": "execute_result"
    }
   ],
   "source": [
    "X_train_por.shape"
   ]
  },
  {
   "cell_type": "code",
   "execution_count": 54,
   "metadata": {
    "colab": {
     "base_uri": "https://localhost:8080/",
     "height": 1000
    },
    "colab_type": "code",
    "executionInfo": {
     "elapsed": 6378909,
     "status": "ok",
     "timestamp": 1569968454841,
     "user": {
      "displayName": "Edwin Rueda",
      "photoUrl": "",
      "userId": "09723095468412601383"
     },
     "user_tz": 180
    },
    "id": "1NnZ839_bmSM",
    "outputId": "560f366a-6459-493b-9942-3ac0aa60d149"
   },
   "outputs": [
    {
     "name": "stdout",
     "output_type": "stream",
     "text": [
      "(295400, 5200) (295400, 1576)\n",
      "Epoch 1/30\n",
      "295400/295400 [==============================] - 216s 730us/sample - loss: 4.3745 - acc: 0.3404\n",
      "Epoch 2/30\n",
      "295400/295400 [==============================] - 215s 728us/sample - loss: 1.8644 - acc: 0.6993\n",
      "Epoch 3/30\n",
      "295400/295400 [==============================] - 215s 728us/sample - loss: 1.3850 - acc: 0.7744\n",
      "Epoch 4/30\n",
      "295400/295400 [==============================] - 215s 728us/sample - loss: 1.1893 - acc: 0.8048\n",
      "Epoch 5/30\n",
      "295400/295400 [==============================] - 213s 721us/sample - loss: 1.0807 - acc: 0.8222\n",
      "Epoch 6/30\n",
      "295400/295400 [==============================] - 213s 720us/sample - loss: 1.0042 - acc: 0.8337\n",
      "Epoch 7/30\n",
      "295400/295400 [==============================] - 214s 723us/sample - loss: 0.9532 - acc: 0.8424\n",
      "Epoch 8/30\n",
      "295400/295400 [==============================] - 214s 725us/sample - loss: 0.9129 - acc: 0.8489\n",
      "Epoch 9/30\n",
      "295400/295400 [==============================] - 213s 722us/sample - loss: 0.8808 - acc: 0.8538\n",
      "Epoch 10/30\n",
      "295400/295400 [==============================] - 215s 727us/sample - loss: 0.8542 - acc: 0.8582\n",
      "Epoch 11/30\n",
      "295400/295400 [==============================] - 214s 724us/sample - loss: 0.8350 - acc: 0.8608\n",
      "Epoch 12/30\n",
      "295400/295400 [==============================] - 212s 718us/sample - loss: 0.8134 - acc: 0.8647\n",
      "Epoch 13/30\n",
      "295400/295400 [==============================] - 212s 719us/sample - loss: 0.7988 - acc: 0.8669\n",
      "Epoch 14/30\n",
      "295400/295400 [==============================] - 213s 720us/sample - loss: 0.7805 - acc: 0.8702\n",
      "Epoch 15/30\n",
      "295400/295400 [==============================] - 211s 713us/sample - loss: 0.7671 - acc: 0.8717\n",
      "Epoch 16/30\n",
      "295400/295400 [==============================] - 212s 719us/sample - loss: 0.7536 - acc: 0.8749\n",
      "Epoch 17/30\n",
      "295400/295400 [==============================] - 210s 712us/sample - loss: 0.7433 - acc: 0.8764\n",
      "Epoch 18/30\n",
      "295400/295400 [==============================] - 210s 712us/sample - loss: 0.7332 - acc: 0.8780\n",
      "Epoch 19/30\n",
      "295400/295400 [==============================] - 210s 712us/sample - loss: 0.7271 - acc: 0.8790\n",
      "Epoch 20/30\n",
      "295400/295400 [==============================] - 211s 714us/sample - loss: 0.7148 - acc: 0.8809\n",
      "Epoch 21/30\n",
      "295400/295400 [==============================] - 210s 713us/sample - loss: 0.7066 - acc: 0.8823\n",
      "Epoch 22/30\n",
      "295400/295400 [==============================] - 210s 711us/sample - loss: 0.6978 - acc: 0.8836\n",
      "Epoch 23/30\n",
      "295400/295400 [==============================] - 212s 717us/sample - loss: 0.6924 - acc: 0.8843\n",
      "Epoch 24/30\n",
      "295400/295400 [==============================] - 211s 714us/sample - loss: 0.6843 - acc: 0.8863\n",
      "Epoch 25/30\n",
      "295400/295400 [==============================] - 210s 709us/sample - loss: 0.6811 - acc: 0.8866\n",
      "Epoch 26/30\n",
      "295400/295400 [==============================] - 212s 718us/sample - loss: 0.6683 - acc: 0.8888\n",
      "Epoch 27/30\n",
      "295400/295400 [==============================] - 215s 729us/sample - loss: 0.6663 - acc: 0.8893\n",
      "Epoch 28/30\n",
      "295400/295400 [==============================] - 214s 724us/sample - loss: 0.6637 - acc: 0.8894\n",
      "Epoch 29/30\n",
      "295400/295400 [==============================] - 212s 719us/sample - loss: 0.6572 - acc: 0.8909\n",
      "Epoch 30/30\n",
      "295400/295400 [==============================] - 212s 718us/sample - loss: 0.6526 - acc: 0.8916\n"
     ]
    },
    {
     "data": {
      "text/plain": [
       "<tensorflow.python.keras.callbacks.History at 0x7f8ba56547b8>"
      ]
     },
     "execution_count": 54,
     "metadata": {
      "tags": []
     },
     "output_type": "execute_result"
    }
   ],
   "source": [
    "y_binary = to_categorical(y_por_enc)\n",
    "print(X_train_por.shape, y_binary.shape)\n",
    "model.fit(X_train_por, y_binary, batch_size=64, epochs=30)"
   ]
  },
  {
   "cell_type": "code",
   "execution_count": 0,
   "metadata": {
    "colab": {},
    "colab_type": "code",
    "id": "ZfEBGWSCSyEH"
   },
   "outputs": [],
   "source": [
    "model.save('./drive/My Drive/Colab Notebooks/data/my_model' + idioma + '.h5')"
   ]
  },
  {
   "cell_type": "code",
   "execution_count": 0,
   "metadata": {
    "colab": {
     "base_uri": "https://localhost:8080/",
     "height": 530
    },
    "colab_type": "code",
    "executionInfo": {
     "elapsed": 162896,
     "status": "ok",
     "timestamp": 1569957466362,
     "user": {
      "displayName": "Edwin Rueda",
      "photoUrl": "",
      "userId": "09723095468412601383"
     },
     "user_tz": 180
    },
    "id": "PHtjXF5s3yQM",
    "outputId": "d1f8ec36-c6b7-427c-f597-13616b183aaa"
   },
   "outputs": [
    {
     "name": "stdout",
     "output_type": "stream",
     "text": [
      "WARNING:tensorflow:From /usr/local/lib/python3.6/dist-packages/tensorflow/python/ops/init_ops.py:97: calling GlorotUniform.__init__ (from tensorflow.python.ops.init_ops) with dtype is deprecated and will be removed in a future version.\n",
      "Instructions for updating:\n",
      "Call initializer instance with the dtype argument instead of passing it to the constructor\n",
      "WARNING:tensorflow:From /usr/local/lib/python3.6/dist-packages/tensorflow/python/ops/init_ops.py:1251: calling VarianceScaling.__init__ (from tensorflow.python.ops.init_ops) with dtype is deprecated and will be removed in a future version.\n",
      "Instructions for updating:\n",
      "Call initializer instance with the dtype argument instead of passing it to the constructor\n",
      "WARNING:tensorflow:From /usr/local/lib/python3.6/dist-packages/tensorflow/python/ops/init_ops.py:97: calling Zeros.__init__ (from tensorflow.python.ops.init_ops) with dtype is deprecated and will be removed in a future version.\n",
      "Instructions for updating:\n",
      "Call initializer instance with the dtype argument instead of passing it to the constructor\n",
      "Model: \"sequential\"\n",
      "_________________________________________________________________\n",
      "Layer (type)                 Output Shape              Param #   \n",
      "=================================================================\n",
      "dense1 (Dense)               (None, 600)               3120600   \n",
      "_________________________________________________________________\n",
      "dropout (Dropout)            (None, 600)               0         \n",
      "_________________________________________________________________\n",
      "dense2 (Dense)               (None, 600)               360600    \n",
      "_________________________________________________________________\n",
      "dropout_1 (Dropout)          (None, 600)               0         \n",
      "_________________________________________________________________\n",
      "dense3 (Dense)               (None, 800)               480800    \n",
      "_________________________________________________________________\n",
      "dense (Dense)                (None, 1574)              1260774   \n",
      "=================================================================\n",
      "Total params: 5,222,774\n",
      "Trainable params: 5,222,774\n",
      "Non-trainable params: 0\n",
      "_________________________________________________________________\n"
     ]
    }
   ],
   "source": [
    "from tensorflow.keras.models import load_model\n",
    " \n",
    "# load model\n",
    "model = load_model('./drive/My Drive/Colab Notebooks/data/my_model' + idioma + '.h5')\n",
    "# summarize model.\n",
    "model.summary()"
   ]
  },
  {
   "cell_type": "code",
   "execution_count": 0,
   "metadata": {
    "colab": {
     "base_uri": "https://localhost:8080/",
     "height": 357
    },
    "colab_type": "code",
    "executionInfo": {
     "elapsed": 162157,
     "status": "ok",
     "timestamp": 1569957466366,
     "user": {
      "displayName": "Edwin Rueda",
      "photoUrl": "",
      "userId": "09723095468412601383"
     },
     "user_tz": 180
    },
    "id": "KmfMRarphg08",
    "outputId": "e335e983-51e8-47ef-ea2a-94daf7618a52"
   },
   "outputs": [
    {
     "name": "stdout",
     "output_type": "stream",
     "text": [
      "Model: \"sequential\"\n",
      "_________________________________________________________________\n",
      "Layer (type)                 Output Shape              Param #   \n",
      "=================================================================\n",
      "dense1 (Dense)               (None, 600)               3120600   \n",
      "_________________________________________________________________\n",
      "dropout (Dropout)            (None, 600)               0         \n",
      "_________________________________________________________________\n",
      "dense2 (Dense)               (None, 600)               360600    \n",
      "_________________________________________________________________\n",
      "dropout_1 (Dropout)          (None, 600)               0         \n",
      "_________________________________________________________________\n",
      "dense3 (Dense)               (None, 800)               480800    \n",
      "_________________________________________________________________\n",
      "dense (Dense)                (None, 1574)              1260774   \n",
      "=================================================================\n",
      "Total params: 5,222,774\n",
      "Trainable params: 5,222,774\n",
      "Non-trainable params: 0\n",
      "_________________________________________________________________\n"
     ]
    }
   ],
   "source": [
    "model.summary()"
   ]
  },
  {
   "cell_type": "code",
   "execution_count": 56,
   "metadata": {
    "colab": {
     "base_uri": "https://localhost:8080/",
     "height": 51
    },
    "colab_type": "code",
    "executionInfo": {
     "elapsed": 1984012,
     "status": "ok",
     "timestamp": 1569968538676,
     "user": {
      "displayName": "Edwin Rueda",
      "photoUrl": "",
      "userId": "09723095468412601383"
     },
     "user_tz": 180
    },
    "id": "A1rwDBRz_6I1",
    "outputId": "9bf2edfb-33eb-4cbc-a74d-1b3111ffbcfd"
   },
   "outputs": [
    {
     "name": "stdout",
     "output_type": "stream",
     "text": [
      "295400/295400 [==============================] - 67s 227us/sample - loss: 0.5041 - acc: 0.9117\n"
     ]
    },
    {
     "data": {
      "text/plain": [
       "[0.5041195535061019, 0.9117231]"
      ]
     },
     "execution_count": 56,
     "metadata": {
      "tags": []
     },
     "output_type": "execute_result"
    }
   ],
   "source": [
    "y_binary = to_categorical(y_por_enc)\n",
    "model.evaluate(X_train_por.toarray(), y_binary)"
   ]
  },
  {
   "cell_type": "code",
   "execution_count": 57,
   "metadata": {
    "colab": {
     "base_uri": "https://localhost:8080/",
     "height": 235
    },
    "colab_type": "code",
    "executionInfo": {
     "elapsed": 1980738,
     "status": "ok",
     "timestamp": 1569968539336,
     "user": {
      "displayName": "Edwin Rueda",
      "photoUrl": "",
      "userId": "09723095468412601383"
     },
     "user_tz": 180
    },
    "id": "K-PUnsMsbpq8",
    "outputId": "564d7038-bbb6-4ce0-91bb-0f7dc97bd94b"
   },
   "outputs": [
    {
     "data": {
      "text/html": [
       "<div>\n",
       "<style scoped>\n",
       "    .dataframe tbody tr th:only-of-type {\n",
       "        vertical-align: middle;\n",
       "    }\n",
       "\n",
       "    .dataframe tbody tr th {\n",
       "        vertical-align: top;\n",
       "    }\n",
       "\n",
       "    .dataframe thead th {\n",
       "        text-align: right;\n",
       "    }\n",
       "</style>\n",
       "<table border=\"1\" class=\"dataframe\">\n",
       "  <thead>\n",
       "    <tr style=\"text-align: right;\">\n",
       "      <th></th>\n",
       "      <th>title</th>\n",
       "      <th>language</th>\n",
       "    </tr>\n",
       "    <tr>\n",
       "      <th>id</th>\n",
       "      <th></th>\n",
       "      <th></th>\n",
       "    </tr>\n",
       "  </thead>\n",
       "  <tbody>\n",
       "    <tr>\n",
       "      <th>0</th>\n",
       "      <td>Kit Maternidade Bolsa-mala Baby/bebe Vinho Men...</td>\n",
       "      <td>portuguese</td>\n",
       "    </tr>\n",
       "    <tr>\n",
       "      <th>1</th>\n",
       "      <td>Trocador De Fraldas Fisher Price Feminino Rosa...</td>\n",
       "      <td>portuguese</td>\n",
       "    </tr>\n",
       "    <tr>\n",
       "      <th>2</th>\n",
       "      <td>Motor Ventoinha - Fiat Idea / Palio 1.8 - A 04...</td>\n",
       "      <td>portuguese</td>\n",
       "    </tr>\n",
       "    <tr>\n",
       "      <th>3</th>\n",
       "      <td>Amortecedor Mola Batente D Dir New Civic 14 - ...</td>\n",
       "      <td>portuguese</td>\n",
       "    </tr>\n",
       "    <tr>\n",
       "      <th>4</th>\n",
       "      <td>Cadeirinha De Carro Bebê Princesa Princess 9 A...</td>\n",
       "      <td>portuguese</td>\n",
       "    </tr>\n",
       "  </tbody>\n",
       "</table>\n",
       "</div>"
      ],
      "text/plain": [
       "                                                title    language\n",
       "id                                                               \n",
       "0   Kit Maternidade Bolsa-mala Baby/bebe Vinho Men...  portuguese\n",
       "1   Trocador De Fraldas Fisher Price Feminino Rosa...  portuguese\n",
       "2   Motor Ventoinha - Fiat Idea / Palio 1.8 - A 04...  portuguese\n",
       "3   Amortecedor Mola Batente D Dir New Civic 14 - ...  portuguese\n",
       "4   Cadeirinha De Carro Bebê Princesa Princess 9 A...  portuguese"
      ]
     },
     "execution_count": 57,
     "metadata": {
      "tags": []
     },
     "output_type": "execute_result"
    }
   ],
   "source": [
    "data_test = pd.read_csv(\"./drive/My Drive/Colab Notebooks/data/test.csv\", index_col=0)\n",
    "data_test.head()"
   ]
  },
  {
   "cell_type": "code",
   "execution_count": 58,
   "metadata": {
    "colab": {
     "base_uri": "https://localhost:8080/",
     "height": 235
    },
    "colab_type": "code",
    "executionInfo": {
     "elapsed": 1978338,
     "status": "ok",
     "timestamp": 1569968539338,
     "user": {
      "displayName": "Edwin Rueda",
      "photoUrl": "",
      "userId": "09723095468412601383"
     },
     "user_tz": 180
    },
    "id": "tGz1zkiUhTYK",
    "outputId": "c08bd72a-52f6-4465-f965-67001847b55e"
   },
   "outputs": [
    {
     "data": {
      "text/html": [
       "<div>\n",
       "<style scoped>\n",
       "    .dataframe tbody tr th:only-of-type {\n",
       "        vertical-align: middle;\n",
       "    }\n",
       "\n",
       "    .dataframe tbody tr th {\n",
       "        vertical-align: top;\n",
       "    }\n",
       "\n",
       "    .dataframe thead th {\n",
       "        text-align: right;\n",
       "    }\n",
       "</style>\n",
       "<table border=\"1\" class=\"dataframe\">\n",
       "  <thead>\n",
       "    <tr style=\"text-align: right;\">\n",
       "      <th></th>\n",
       "      <th>title</th>\n",
       "      <th>language</th>\n",
       "    </tr>\n",
       "    <tr>\n",
       "      <th>id</th>\n",
       "      <th></th>\n",
       "      <th></th>\n",
       "    </tr>\n",
       "  </thead>\n",
       "  <tbody>\n",
       "    <tr>\n",
       "      <th>0</th>\n",
       "      <td>Kit Maternidade Bolsa-mala Baby/bebe Vinho Men...</td>\n",
       "      <td>portuguese</td>\n",
       "    </tr>\n",
       "    <tr>\n",
       "      <th>1</th>\n",
       "      <td>Trocador De Fraldas Fisher Price Feminino Rosa...</td>\n",
       "      <td>portuguese</td>\n",
       "    </tr>\n",
       "    <tr>\n",
       "      <th>2</th>\n",
       "      <td>Motor Ventoinha - Fiat Idea / Palio 1.8 - A 04...</td>\n",
       "      <td>portuguese</td>\n",
       "    </tr>\n",
       "    <tr>\n",
       "      <th>3</th>\n",
       "      <td>Amortecedor Mola Batente D Dir New Civic 14 - ...</td>\n",
       "      <td>portuguese</td>\n",
       "    </tr>\n",
       "    <tr>\n",
       "      <th>4</th>\n",
       "      <td>Cadeirinha De Carro Bebê Princesa Princess 9 A...</td>\n",
       "      <td>portuguese</td>\n",
       "    </tr>\n",
       "  </tbody>\n",
       "</table>\n",
       "</div>"
      ],
      "text/plain": [
       "                                                title    language\n",
       "id                                                               \n",
       "0   Kit Maternidade Bolsa-mala Baby/bebe Vinho Men...  portuguese\n",
       "1   Trocador De Fraldas Fisher Price Feminino Rosa...  portuguese\n",
       "2   Motor Ventoinha - Fiat Idea / Palio 1.8 - A 04...  portuguese\n",
       "3   Amortecedor Mola Batente D Dir New Civic 14 - ...  portuguese\n",
       "4   Cadeirinha De Carro Bebê Princesa Princess 9 A...  portuguese"
      ]
     },
     "execution_count": 58,
     "metadata": {
      "tags": []
     },
     "output_type": "execute_result"
    }
   ],
   "source": [
    "new_dtest = data_test.loc[data_test.language==idioma]\n",
    "new_dtest.head()"
   ]
  },
  {
   "cell_type": "code",
   "execution_count": 0,
   "metadata": {
    "colab": {},
    "colab_type": "code",
    "id": "kadFXeK-xizd"
   },
   "outputs": [],
   "source": [
    "text_test = new_dtest.title.values\n",
    "\n",
    "X_test_por = vectorizer.transform(text_test)"
   ]
  },
  {
   "cell_type": "code",
   "execution_count": 0,
   "metadata": {
    "colab": {},
    "colab_type": "code",
    "id": "-nS36qoQxk9m"
   },
   "outputs": [],
   "source": [
    "y_test_por = model.predict_classes(X_test_por.toarray())"
   ]
  },
  {
   "cell_type": "code",
   "execution_count": 61,
   "metadata": {
    "colab": {
     "base_uri": "https://localhost:8080/",
     "height": 34
    },
    "colab_type": "code",
    "executionInfo": {
     "elapsed": 2046513,
     "status": "ok",
     "timestamp": 1569968611914,
     "user": {
      "displayName": "Edwin Rueda",
      "photoUrl": "",
      "userId": "09723095468412601383"
     },
     "user_tz": 180
    },
    "id": "AM0UiE2xxrfE",
    "outputId": "e94af1eb-99ab-4aa5-f2d4-15b6e708e9aa"
   },
   "outputs": [
    {
     "data": {
      "text/plain": [
       "array([ 449,  120,   63, ...,   82, 1521,  458])"
      ]
     },
     "execution_count": 61,
     "metadata": {
      "tags": []
     },
     "output_type": "execute_result"
    }
   ],
   "source": [
    "y_test_por"
   ]
  },
  {
   "cell_type": "code",
   "execution_count": 62,
   "metadata": {
    "colab": {
     "base_uri": "https://localhost:8080/",
     "height": 136
    },
    "colab_type": "code",
    "executionInfo": {
     "elapsed": 2045485,
     "status": "ok",
     "timestamp": 1569968611915,
     "user": {
      "displayName": "Edwin Rueda",
      "photoUrl": "",
      "userId": "09723095468412601383"
     },
     "user_tz": 180
    },
    "id": "4hHQczAhxzsH",
    "outputId": "03b1ff59-7370-4ac5-bbf6-80e583fe512f"
   },
   "outputs": [
    {
     "data": {
      "text/plain": [
       "array([['DIAPER_BAGS'],\n",
       "       ['BABY_CHANGING_PADS'],\n",
       "       ['AUTOMOTIVE_BLOWER_HEATER_MOTORS'],\n",
       "       ...,\n",
       "       ['AUTOMOTIVE_HEADLIGHTS'],\n",
       "       ['WALKIE_TALKIES'],\n",
       "       ['DINING_SETS']], dtype=object)"
      ]
     },
     "execution_count": 62,
     "metadata": {
      "tags": []
     },
     "output_type": "execute_result"
    }
   ],
   "source": [
    "y_test_des = encoder.inverse_transform(y_test_por.reshape(-1, 1))\n",
    "y_test_des"
   ]
  },
  {
   "cell_type": "code",
   "execution_count": 63,
   "metadata": {
    "colab": {
     "base_uri": "https://localhost:8080/",
     "height": 855
    },
    "colab_type": "code",
    "executionInfo": {
     "elapsed": 2038158,
     "status": "ok",
     "timestamp": 1569968611917,
     "user": {
      "displayName": "Edwin Rueda",
      "photoUrl": "",
      "userId": "09723095468412601383"
     },
     "user_tz": 180
    },
    "id": "zHtJpwQJx1zc",
    "outputId": "d83643aa-8619-4663-e936-5907f69090f9"
   },
   "outputs": [
    {
     "data": {
      "text/html": [
       "<div>\n",
       "<style scoped>\n",
       "    .dataframe tbody tr th:only-of-type {\n",
       "        vertical-align: middle;\n",
       "    }\n",
       "\n",
       "    .dataframe tbody tr th {\n",
       "        vertical-align: top;\n",
       "    }\n",
       "\n",
       "    .dataframe thead th {\n",
       "        text-align: right;\n",
       "    }\n",
       "</style>\n",
       "<table border=\"1\" class=\"dataframe\">\n",
       "  <thead>\n",
       "    <tr style=\"text-align: right;\">\n",
       "      <th></th>\n",
       "      <th>category</th>\n",
       "    </tr>\n",
       "    <tr>\n",
       "      <th>id</th>\n",
       "      <th></th>\n",
       "    </tr>\n",
       "  </thead>\n",
       "  <tbody>\n",
       "    <tr>\n",
       "      <th>0</th>\n",
       "      <td>DIAPER_BAGS</td>\n",
       "    </tr>\n",
       "    <tr>\n",
       "      <th>1</th>\n",
       "      <td>BABY_DIAPERS</td>\n",
       "    </tr>\n",
       "    <tr>\n",
       "      <th>2</th>\n",
       "      <td>ENGINE_COOLING_FAN_MOTORS</td>\n",
       "    </tr>\n",
       "    <tr>\n",
       "      <th>3</th>\n",
       "      <td>AUTOMOTIVE_SHOCK_ABSORBER_BUMP_STOPS</td>\n",
       "    </tr>\n",
       "    <tr>\n",
       "      <th>4</th>\n",
       "      <td>BABY_CAR_SEATS</td>\n",
       "    </tr>\n",
       "    <tr>\n",
       "      <th>5</th>\n",
       "      <td>HAND_BRAKE_CABLES</td>\n",
       "    </tr>\n",
       "    <tr>\n",
       "      <th>6</th>\n",
       "      <td>NETBOOKS</td>\n",
       "    </tr>\n",
       "    <tr>\n",
       "      <th>7</th>\n",
       "      <td>VEHICLE_LED_BULBS</td>\n",
       "    </tr>\n",
       "    <tr>\n",
       "      <th>8</th>\n",
       "      <td>CD_AND_DVD_PLAYERS</td>\n",
       "    </tr>\n",
       "    <tr>\n",
       "      <th>9</th>\n",
       "      <td>HARD_DRIVES_AND_SSDS</td>\n",
       "    </tr>\n",
       "    <tr>\n",
       "      <th>10</th>\n",
       "      <td>MEAT_GRINDERS</td>\n",
       "    </tr>\n",
       "    <tr>\n",
       "      <th>11</th>\n",
       "      <td>BABY_CLOTHING_SETS</td>\n",
       "    </tr>\n",
       "    <tr>\n",
       "      <th>12</th>\n",
       "      <td>SPARK_PLUGS</td>\n",
       "    </tr>\n",
       "    <tr>\n",
       "      <th>13</th>\n",
       "      <td>ENGINE_CONTROL_MODULES</td>\n",
       "    </tr>\n",
       "    <tr>\n",
       "      <th>14</th>\n",
       "      <td>CROWBARS</td>\n",
       "    </tr>\n",
       "    <tr>\n",
       "      <th>15</th>\n",
       "      <td>HONEY</td>\n",
       "    </tr>\n",
       "    <tr>\n",
       "      <th>16</th>\n",
       "      <td>SAXOPHONES</td>\n",
       "    </tr>\n",
       "    <tr>\n",
       "      <th>17</th>\n",
       "      <td>SAFETY_FOOTWEAR</td>\n",
       "    </tr>\n",
       "    <tr>\n",
       "      <th>18</th>\n",
       "      <td>MEMORY_CARDS</td>\n",
       "    </tr>\n",
       "    <tr>\n",
       "      <th>19</th>\n",
       "      <td>DJ_TURNTABLES</td>\n",
       "    </tr>\n",
       "    <tr>\n",
       "      <th>20</th>\n",
       "      <td>PENCIL_CASES</td>\n",
       "    </tr>\n",
       "    <tr>\n",
       "      <th>21</th>\n",
       "      <td>CUSHIONS</td>\n",
       "    </tr>\n",
       "    <tr>\n",
       "      <th>22</th>\n",
       "      <td>SPEAKERS</td>\n",
       "    </tr>\n",
       "    <tr>\n",
       "      <th>23</th>\n",
       "      <td>TENNIS_BALLS</td>\n",
       "    </tr>\n",
       "    <tr>\n",
       "      <th>24</th>\n",
       "      <td>DRUM_BRAKE_SHOES</td>\n",
       "    </tr>\n",
       "  </tbody>\n",
       "</table>\n",
       "</div>"
      ],
      "text/plain": [
       "                                category\n",
       "id                                      \n",
       "0                            DIAPER_BAGS\n",
       "1                           BABY_DIAPERS\n",
       "2              ENGINE_COOLING_FAN_MOTORS\n",
       "3   AUTOMOTIVE_SHOCK_ABSORBER_BUMP_STOPS\n",
       "4                         BABY_CAR_SEATS\n",
       "5                      HAND_BRAKE_CABLES\n",
       "6                               NETBOOKS\n",
       "7                      VEHICLE_LED_BULBS\n",
       "8                     CD_AND_DVD_PLAYERS\n",
       "9                   HARD_DRIVES_AND_SSDS\n",
       "10                         MEAT_GRINDERS\n",
       "11                    BABY_CLOTHING_SETS\n",
       "12                           SPARK_PLUGS\n",
       "13                ENGINE_CONTROL_MODULES\n",
       "14                              CROWBARS\n",
       "15                                 HONEY\n",
       "16                            SAXOPHONES\n",
       "17                       SAFETY_FOOTWEAR\n",
       "18                          MEMORY_CARDS\n",
       "19                         DJ_TURNTABLES\n",
       "20                          PENCIL_CASES\n",
       "21                              CUSHIONS\n",
       "22                              SPEAKERS\n",
       "23                          TENNIS_BALLS\n",
       "24                      DRUM_BRAKE_SHOES"
      ]
     },
     "execution_count": 63,
     "metadata": {
      "tags": []
     },
     "output_type": "execute_result"
    }
   ],
   "source": [
    "submission = pd.read_csv(\"./drive/My Drive/Colab Notebooks/data/sample_submission16.csv\",index_col=0)\n",
    "submission.iloc[:25]"
   ]
  },
  {
   "cell_type": "code",
   "execution_count": 0,
   "metadata": {
    "colab": {},
    "colab_type": "code",
    "id": "ig19Bj87x8s0"
   },
   "outputs": [],
   "source": [
    "submission.loc[new_dtest.index] = y_test_des"
   ]
  },
  {
   "cell_type": "code",
   "execution_count": 65,
   "metadata": {
    "colab": {
     "base_uri": "https://localhost:8080/",
     "height": 1000
    },
    "colab_type": "code",
    "executionInfo": {
     "elapsed": 2036227,
     "status": "ok",
     "timestamp": 1569968611919,
     "user": {
      "displayName": "Edwin Rueda",
      "photoUrl": "",
      "userId": "09723095468412601383"
     },
     "user_tz": 180
    },
    "id": "Z5tyQ2u0y0oo",
    "outputId": "d3508834-b9ec-4ae4-eb54-a1ab39fc15bb"
   },
   "outputs": [
    {
     "data": {
      "text/html": [
       "<div>\n",
       "<style scoped>\n",
       "    .dataframe tbody tr th:only-of-type {\n",
       "        vertical-align: middle;\n",
       "    }\n",
       "\n",
       "    .dataframe tbody tr th {\n",
       "        vertical-align: top;\n",
       "    }\n",
       "\n",
       "    .dataframe thead th {\n",
       "        text-align: right;\n",
       "    }\n",
       "</style>\n",
       "<table border=\"1\" class=\"dataframe\">\n",
       "  <thead>\n",
       "    <tr style=\"text-align: right;\">\n",
       "      <th></th>\n",
       "      <th>category</th>\n",
       "    </tr>\n",
       "    <tr>\n",
       "      <th>id</th>\n",
       "      <th></th>\n",
       "    </tr>\n",
       "  </thead>\n",
       "  <tbody>\n",
       "    <tr>\n",
       "      <th>0</th>\n",
       "      <td>DIAPER_BAGS</td>\n",
       "    </tr>\n",
       "    <tr>\n",
       "      <th>1</th>\n",
       "      <td>BABY_CHANGING_PADS</td>\n",
       "    </tr>\n",
       "    <tr>\n",
       "      <th>2</th>\n",
       "      <td>AUTOMOTIVE_BLOWER_HEATER_MOTORS</td>\n",
       "    </tr>\n",
       "    <tr>\n",
       "      <th>3</th>\n",
       "      <td>AUTOMOTIVE_SHOCK_ABSORBER_BUMP_STOPS</td>\n",
       "    </tr>\n",
       "    <tr>\n",
       "      <th>4</th>\n",
       "      <td>BABY_CAR_SEATS</td>\n",
       "    </tr>\n",
       "    <tr>\n",
       "      <th>5</th>\n",
       "      <td>HAND_BRAKE_CABLES</td>\n",
       "    </tr>\n",
       "    <tr>\n",
       "      <th>6</th>\n",
       "      <td>DESKTOP_COMPUTERS</td>\n",
       "    </tr>\n",
       "    <tr>\n",
       "      <th>7</th>\n",
       "      <td>XENON_KITS</td>\n",
       "    </tr>\n",
       "    <tr>\n",
       "      <th>8</th>\n",
       "      <td>MARTIAL_ARTS_FOOT_GUARDS</td>\n",
       "    </tr>\n",
       "    <tr>\n",
       "      <th>11</th>\n",
       "      <td>BABY_CLOTHING_SETS</td>\n",
       "    </tr>\n",
       "    <tr>\n",
       "      <th>12</th>\n",
       "      <td>SPARK_PLUGS</td>\n",
       "    </tr>\n",
       "    <tr>\n",
       "      <th>13</th>\n",
       "      <td>ENGINE_CONTROL_MODULES</td>\n",
       "    </tr>\n",
       "    <tr>\n",
       "      <th>16</th>\n",
       "      <td>SAXOPHONES</td>\n",
       "    </tr>\n",
       "    <tr>\n",
       "      <th>17</th>\n",
       "      <td>SAFETY_FOOTWEAR</td>\n",
       "    </tr>\n",
       "    <tr>\n",
       "      <th>18</th>\n",
       "      <td>MEMORY_CARD_READERS</td>\n",
       "    </tr>\n",
       "    <tr>\n",
       "      <th>20</th>\n",
       "      <td>TONFAS</td>\n",
       "    </tr>\n",
       "    <tr>\n",
       "      <th>24</th>\n",
       "      <td>DRUM_BRAKE_SHOES</td>\n",
       "    </tr>\n",
       "    <tr>\n",
       "      <th>28</th>\n",
       "      <td>EMBROIDERY_DESIGNS</td>\n",
       "    </tr>\n",
       "    <tr>\n",
       "      <th>33</th>\n",
       "      <td>EMBROIDERY_MACHINES</td>\n",
       "    </tr>\n",
       "    <tr>\n",
       "      <th>34</th>\n",
       "      <td>PLASTIC_INJECTION_MOLDING_MACHINES</td>\n",
       "    </tr>\n",
       "    <tr>\n",
       "      <th>35</th>\n",
       "      <td>EGR_VALVES</td>\n",
       "    </tr>\n",
       "    <tr>\n",
       "      <th>36</th>\n",
       "      <td>CONCRETE_BLOCKS</td>\n",
       "    </tr>\n",
       "    <tr>\n",
       "      <th>37</th>\n",
       "      <td>CAR_WINDOW_SWITCHES</td>\n",
       "    </tr>\n",
       "    <tr>\n",
       "      <th>41</th>\n",
       "      <td>FOOTBALL_GOALKEEPER_GLOVES</td>\n",
       "    </tr>\n",
       "    <tr>\n",
       "      <th>43</th>\n",
       "      <td>NETWORK_CARDS</td>\n",
       "    </tr>\n",
       "    <tr>\n",
       "      <th>46</th>\n",
       "      <td>PUZZLES</td>\n",
       "    </tr>\n",
       "    <tr>\n",
       "      <th>49</th>\n",
       "      <td>MIRRORS</td>\n",
       "    </tr>\n",
       "    <tr>\n",
       "      <th>52</th>\n",
       "      <td>ANTIQUE_CHAIRS</td>\n",
       "    </tr>\n",
       "    <tr>\n",
       "      <th>53</th>\n",
       "      <td>FREEZERS</td>\n",
       "    </tr>\n",
       "    <tr>\n",
       "      <th>54</th>\n",
       "      <td>ICE_BUCKETS</td>\n",
       "    </tr>\n",
       "    <tr>\n",
       "      <th>...</th>\n",
       "      <td>...</td>\n",
       "    </tr>\n",
       "    <tr>\n",
       "      <th>246891</th>\n",
       "      <td>GARDENING_AND_AGRICULTURE_SEEDS</td>\n",
       "    </tr>\n",
       "    <tr>\n",
       "      <th>246893</th>\n",
       "      <td>UPS_BATTERIES</td>\n",
       "    </tr>\n",
       "    <tr>\n",
       "      <th>246894</th>\n",
       "      <td>BICYCLES</td>\n",
       "    </tr>\n",
       "    <tr>\n",
       "      <th>246895</th>\n",
       "      <td>STYLUSES</td>\n",
       "    </tr>\n",
       "    <tr>\n",
       "      <th>246897</th>\n",
       "      <td>SCOOTERS</td>\n",
       "    </tr>\n",
       "    <tr>\n",
       "      <th>246898</th>\n",
       "      <td>DRIED_FRUITS</td>\n",
       "    </tr>\n",
       "    <tr>\n",
       "      <th>246900</th>\n",
       "      <td>SWAY_BAR_LINKS</td>\n",
       "    </tr>\n",
       "    <tr>\n",
       "      <th>246902</th>\n",
       "      <td>HEADBOARDS</td>\n",
       "    </tr>\n",
       "    <tr>\n",
       "      <th>246903</th>\n",
       "      <td>STREAMING_MEDIA_DEVICES</td>\n",
       "    </tr>\n",
       "    <tr>\n",
       "      <th>246904</th>\n",
       "      <td>AIR_FRESHENERS</td>\n",
       "    </tr>\n",
       "    <tr>\n",
       "      <th>246905</th>\n",
       "      <td>DOG_LEASHES</td>\n",
       "    </tr>\n",
       "    <tr>\n",
       "      <th>246907</th>\n",
       "      <td>CONTINUOUS_LIGHTING</td>\n",
       "    </tr>\n",
       "    <tr>\n",
       "      <th>246908</th>\n",
       "      <td>BELTS</td>\n",
       "    </tr>\n",
       "    <tr>\n",
       "      <th>246922</th>\n",
       "      <td>VEHICLE_BRAKE_PADS</td>\n",
       "    </tr>\n",
       "    <tr>\n",
       "      <th>246923</th>\n",
       "      <td>HOME_HEATERS</td>\n",
       "    </tr>\n",
       "    <tr>\n",
       "      <th>246924</th>\n",
       "      <td>SUITCASES</td>\n",
       "    </tr>\n",
       "    <tr>\n",
       "      <th>246927</th>\n",
       "      <td>AUTOMOTIVE_FENDERS</td>\n",
       "    </tr>\n",
       "    <tr>\n",
       "      <th>246928</th>\n",
       "      <td>EGGS</td>\n",
       "    </tr>\n",
       "    <tr>\n",
       "      <th>246929</th>\n",
       "      <td>STRAWS</td>\n",
       "    </tr>\n",
       "    <tr>\n",
       "      <th>246931</th>\n",
       "      <td>CAR_LIGHT_BULBS</td>\n",
       "    </tr>\n",
       "    <tr>\n",
       "      <th>246932</th>\n",
       "      <td>NEBULIZERS</td>\n",
       "    </tr>\n",
       "    <tr>\n",
       "      <th>246935</th>\n",
       "      <td>BASS_GUITARS</td>\n",
       "    </tr>\n",
       "    <tr>\n",
       "      <th>246938</th>\n",
       "      <td>MAGAZINES</td>\n",
       "    </tr>\n",
       "    <tr>\n",
       "      <th>246942</th>\n",
       "      <td>ENGINE_COOLING_FAN_SWITCHES</td>\n",
       "    </tr>\n",
       "    <tr>\n",
       "      <th>246943</th>\n",
       "      <td>CAMPING_CHAIRS</td>\n",
       "    </tr>\n",
       "    <tr>\n",
       "      <th>246944</th>\n",
       "      <td>UNIVERSAL_REMOTE_CONTROLS</td>\n",
       "    </tr>\n",
       "    <tr>\n",
       "      <th>246945</th>\n",
       "      <td>CAR_CENTER_CONSOLES</td>\n",
       "    </tr>\n",
       "    <tr>\n",
       "      <th>246948</th>\n",
       "      <td>AUTOMOTIVE_HEADLIGHTS</td>\n",
       "    </tr>\n",
       "    <tr>\n",
       "      <th>246951</th>\n",
       "      <td>WALKIE_TALKIES</td>\n",
       "    </tr>\n",
       "    <tr>\n",
       "      <th>246953</th>\n",
       "      <td>DINING_SETS</td>\n",
       "    </tr>\n",
       "  </tbody>\n",
       "</table>\n",
       "<p>121968 rows × 1 columns</p>\n",
       "</div>"
      ],
      "text/plain": [
       "                                    category\n",
       "id                                          \n",
       "0                                DIAPER_BAGS\n",
       "1                         BABY_CHANGING_PADS\n",
       "2            AUTOMOTIVE_BLOWER_HEATER_MOTORS\n",
       "3       AUTOMOTIVE_SHOCK_ABSORBER_BUMP_STOPS\n",
       "4                             BABY_CAR_SEATS\n",
       "5                          HAND_BRAKE_CABLES\n",
       "6                          DESKTOP_COMPUTERS\n",
       "7                                 XENON_KITS\n",
       "8                   MARTIAL_ARTS_FOOT_GUARDS\n",
       "11                        BABY_CLOTHING_SETS\n",
       "12                               SPARK_PLUGS\n",
       "13                    ENGINE_CONTROL_MODULES\n",
       "16                                SAXOPHONES\n",
       "17                           SAFETY_FOOTWEAR\n",
       "18                       MEMORY_CARD_READERS\n",
       "20                                    TONFAS\n",
       "24                          DRUM_BRAKE_SHOES\n",
       "28                        EMBROIDERY_DESIGNS\n",
       "33                       EMBROIDERY_MACHINES\n",
       "34        PLASTIC_INJECTION_MOLDING_MACHINES\n",
       "35                                EGR_VALVES\n",
       "36                           CONCRETE_BLOCKS\n",
       "37                       CAR_WINDOW_SWITCHES\n",
       "41                FOOTBALL_GOALKEEPER_GLOVES\n",
       "43                             NETWORK_CARDS\n",
       "46                                   PUZZLES\n",
       "49                                   MIRRORS\n",
       "52                            ANTIQUE_CHAIRS\n",
       "53                                  FREEZERS\n",
       "54                               ICE_BUCKETS\n",
       "...                                      ...\n",
       "246891       GARDENING_AND_AGRICULTURE_SEEDS\n",
       "246893                         UPS_BATTERIES\n",
       "246894                              BICYCLES\n",
       "246895                              STYLUSES\n",
       "246897                              SCOOTERS\n",
       "246898                          DRIED_FRUITS\n",
       "246900                        SWAY_BAR_LINKS\n",
       "246902                            HEADBOARDS\n",
       "246903               STREAMING_MEDIA_DEVICES\n",
       "246904                        AIR_FRESHENERS\n",
       "246905                           DOG_LEASHES\n",
       "246907                   CONTINUOUS_LIGHTING\n",
       "246908                                 BELTS\n",
       "246922                    VEHICLE_BRAKE_PADS\n",
       "246923                          HOME_HEATERS\n",
       "246924                             SUITCASES\n",
       "246927                    AUTOMOTIVE_FENDERS\n",
       "246928                                  EGGS\n",
       "246929                                STRAWS\n",
       "246931                       CAR_LIGHT_BULBS\n",
       "246932                            NEBULIZERS\n",
       "246935                          BASS_GUITARS\n",
       "246938                             MAGAZINES\n",
       "246942           ENGINE_COOLING_FAN_SWITCHES\n",
       "246943                        CAMPING_CHAIRS\n",
       "246944             UNIVERSAL_REMOTE_CONTROLS\n",
       "246945                   CAR_CENTER_CONSOLES\n",
       "246948                 AUTOMOTIVE_HEADLIGHTS\n",
       "246951                        WALKIE_TALKIES\n",
       "246953                           DINING_SETS\n",
       "\n",
       "[121968 rows x 1 columns]"
      ]
     },
     "execution_count": 65,
     "metadata": {
      "tags": []
     },
     "output_type": "execute_result"
    }
   ],
   "source": [
    "submission.loc[new_dtest.index]"
   ]
  },
  {
   "cell_type": "code",
   "execution_count": 0,
   "metadata": {
    "colab": {},
    "colab_type": "code",
    "id": "Gw7miPKzy2r3"
   },
   "outputs": [],
   "source": [
    "submission.to_csv(\"./drive/My Drive/Colab Notebooks/data/sample_submission17.csv\")"
   ]
  }
 ],
 "metadata": {
  "colab": {
   "collapsed_sections": [],
   "machine_shape": "hm",
   "name": "version portugues.ipynb",
   "provenance": []
  },
  "kernelspec": {
   "display_name": "Python 3",
   "language": "python",
   "name": "python3"
  },
  "language_info": {
   "codemirror_mode": {
    "name": "ipython",
    "version": 3
   },
   "file_extension": ".py",
   "mimetype": "text/x-python",
   "name": "python",
   "nbconvert_exporter": "python",
   "pygments_lexer": "ipython3",
   "version": "3.6.8"
  }
 },
 "nbformat": 4,
 "nbformat_minor": 1
}
